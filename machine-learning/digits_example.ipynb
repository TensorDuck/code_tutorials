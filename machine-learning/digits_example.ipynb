{
 "cells": [
  {
   "cell_type": "code",
   "execution_count": 3,
   "metadata": {},
   "outputs": [],
   "source": [
    "import sklearn\n",
    "import torch\n",
    "import pandas \n",
    "\n",
    "from sklearn import datasets\n",
    "import numpy as np\n",
    "\n",
    "import matplotlib.pyplot as plt"
   ]
  },
  {
   "cell_type": "code",
   "execution_count": 4,
   "metadata": {},
   "outputs": [
    {
     "name": "stdout",
     "output_type": "stream",
     "text": [
      "dict_keys(['data', 'target', 'frame', 'feature_names', 'target_names', 'images', 'DESCR'])\n",
      "[ 0.  0.  5. 13.  9.  1.  0.  0.  0.  0. 13. 15. 10. 15.  5.  0.  0.  3.\n",
      " 15.  2.  0. 11.  8.  0.  0.  4. 12.  0.  0.  8.  8.  0.  0.  5.  8.  0.\n",
      "  0.  9.  8.  0.  0.  4. 11.  0.  1. 12.  7.  0.  0.  2. 14.  5. 10. 12.\n",
      "  0.  0.  0.  0.  6. 13. 10.  0.  0.  0.]\n",
      "16.0\n"
     ]
    }
   ],
   "source": [
    "data = datasets.load_digits()\n",
    "print(data.keys())\n",
    "print(data[\"data\"][0])\n",
    "print(np.max(data[\"data\"]))"
   ]
  },
  {
   "cell_type": "code",
   "execution_count": 5,
   "metadata": {},
   "outputs": [
    {
     "name": "stdout",
     "output_type": "stream",
     "text": [
      "5\n"
     ]
    },
    {
     "data": {
      "text/plain": [
       "<matplotlib.image.AxesImage at 0x7f2c1d729e50>"
      ]
     },
     "execution_count": 5,
     "metadata": {},
     "output_type": "execute_result"
    },
    {
     "data": {
      "image/png": "[encoded data removed]",
      "text/plain": [
       "<Figure size 432x288 with 1 Axes>"
      ]
     },
     "metadata": {
      "needs_background": "light"
     },
     "output_type": "display_data"
    }
   ],
   "source": [
    "index = 25\n",
    "print(data[\"target\"][index])\n",
    "plt.imshow(16 - data[\"data\"][index].reshape(8,8), cmap=\"gray\", vmin=0, vmax=16)"
   ]
  },
  {
   "cell_type": "code",
   "execution_count": 6,
   "metadata": {},
   "outputs": [],
   "source": [
    "from skorch.regressor import NeuralNetRegressor\n",
    "from skorch.utils import to_tensor, to_numpy\n",
    "from skorch.net import NeuralNet\n",
    "\n",
    "import torch\n",
    "import torch.nn as nn"
   ]
  },
  {
   "cell_type": "code",
   "execution_count": 7,
   "metadata": {},
   "outputs": [],
   "source": [
    "class Example(nn.Module):\n",
    "    def __init__(self):\n",
    "        super(Example, self).__init__()\n",
    "        self.FINAL = nn.Sequential(\n",
    "            nn.Linear(64,64),\n",
    "            nn.Linear(64,64),\n",
    "            nn.Linear(64,10),\n",
    "            nn.ReLU()\n",
    "        )\n",
    "        \n",
    "    def forward(self, x):\n",
    "        x = self.FINAL(x)\n",
    "        return x"
   ]
  },
  {
   "cell_type": "code",
   "execution_count": 9,
   "metadata": {},
   "outputs": [
    {
     "data": {
      "text/plain": [
       "tensor([[0.0000, 0.0000, 0.0000,  ..., 0.0000, 0.0000, 0.0000],\n",
       "        [0.0000, 1.3240, 0.0000,  ..., 0.0000, 0.0000, 1.0769],\n",
       "        [0.0000, 0.6484, 0.0000,  ..., 0.0000, 0.0000, 0.8708],\n",
       "        ...,\n",
       "        [0.0000, 0.4565, 0.0000,  ..., 0.0000, 0.0000, 0.8156],\n",
       "        [0.0000, 0.0000, 0.0000,  ..., 0.0000, 0.0000, 0.0000],\n",
       "        [0.0000, 0.0000, 0.0000,  ..., 0.0000, 0.0000, 0.5581]],\n",
       "       grad_fn=<ReluBackward0>)"
      ]
     },
     "execution_count": 9,
     "metadata": {},
     "output_type": "execute_result"
    }
   ],
   "source": [
    "Example().forward(to_tensor(data[\"data\"].astype(np.single), device=\"cpu\"))"
   ]
  },
  {
   "cell_type": "code",
   "execution_count": 10,
   "metadata": {},
   "outputs": [],
   "source": [
    "true_target = np.zeros((len(data[\"target\"]), 10)).astype(np.single)\n",
    "for idx, thing in enumerate(data[\"target\"]):\n",
    "    true_target[idx][thing] = 1\n",
    "\n",
    "true_feature = to_tensor(data[\"data\"].astype(np.single), device=\"cpu\")\n",
    "true_target = to_tensor(true_target, device=\"cpu\")"
   ]
  },
  {
   "cell_type": "code",
   "execution_count": 12,
   "metadata": {},
   "outputs": [],
   "source": [
    "simple_nn = NeuralNetRegressor(\n",
    "    Example,\n",
    "    max_epochs=1,\n",
    "    batch_size=100,\n",
    "    warm_start=True,\n",
    ")"
   ]
  },
  {
   "cell_type": "code",
   "execution_count": 13,
   "metadata": {},
   "outputs": [
    {
     "name": "stdout",
     "output_type": "stream",
     "text": [
      "  epoch    train_loss    valid_loss     dur\n",
      "-------  ------------  ------------  ------\n",
      "      1        \u001b[36m0.1551\u001b[0m        \u001b[32m0.0983\u001b[0m  0.0363\n",
      "      2        \u001b[36m0.0963\u001b[0m        \u001b[32m0.0945\u001b[0m  0.0312\n",
      "      3        \u001b[36m0.0930\u001b[0m        \u001b[32m0.0920\u001b[0m  0.0346\n",
      "      4        \u001b[36m0.0908\u001b[0m        \u001b[32m0.0896\u001b[0m  0.0384\n",
      "      5        \u001b[36m0.0891\u001b[0m        \u001b[32m0.0881\u001b[0m  0.0272\n",
      "      6        \u001b[36m0.0879\u001b[0m        \u001b[32m0.0866\u001b[0m  0.0354\n",
      "      7        \u001b[36m0.0868\u001b[0m        \u001b[32m0.0854\u001b[0m  0.0385\n",
      "      8        \u001b[36m0.0858\u001b[0m        \u001b[32m0.0845\u001b[0m  0.0302\n",
      "      9        \u001b[36m0.0849\u001b[0m        \u001b[32m0.0833\u001b[0m  0.0314\n",
      "     10        \u001b[36m0.0840\u001b[0m        \u001b[32m0.0825\u001b[0m  0.0296\n",
      "     11        \u001b[36m0.0831\u001b[0m        \u001b[32m0.0814\u001b[0m  0.0309\n",
      "     12        \u001b[36m0.0823\u001b[0m        \u001b[32m0.0803\u001b[0m  0.0285\n",
      "     13        \u001b[36m0.0814\u001b[0m        \u001b[32m0.0790\u001b[0m  0.0310\n",
      "     14        \u001b[36m0.0802\u001b[0m        \u001b[32m0.0777\u001b[0m  0.0320\n",
      "     15        \u001b[36m0.0788\u001b[0m        \u001b[32m0.0763\u001b[0m  0.0329\n",
      "     16        \u001b[36m0.0774\u001b[0m        \u001b[32m0.0751\u001b[0m  0.0327\n",
      "     17        \u001b[36m0.0762\u001b[0m        \u001b[32m0.0738\u001b[0m  0.0365\n",
      "     18        \u001b[36m0.0751\u001b[0m        \u001b[32m0.0731\u001b[0m  0.0321\n",
      "     19        \u001b[36m0.0741\u001b[0m        \u001b[32m0.0725\u001b[0m  0.0309\n",
      "     20        \u001b[36m0.0734\u001b[0m        \u001b[32m0.0721\u001b[0m  0.0262\n",
      "     21        \u001b[36m0.0727\u001b[0m        \u001b[32m0.0718\u001b[0m  0.0311\n",
      "     22        \u001b[36m0.0721\u001b[0m        \u001b[32m0.0715\u001b[0m  0.0408\n",
      "     23        \u001b[36m0.0714\u001b[0m        \u001b[32m0.0713\u001b[0m  0.0420\n",
      "     24        \u001b[36m0.0707\u001b[0m        \u001b[32m0.0711\u001b[0m  0.0368\n",
      "     25        \u001b[36m0.0699\u001b[0m        \u001b[32m0.0708\u001b[0m  0.0293\n",
      "     26        \u001b[36m0.0692\u001b[0m        \u001b[32m0.0705\u001b[0m  0.0288\n",
      "     27        \u001b[36m0.0686\u001b[0m        \u001b[32m0.0702\u001b[0m  0.0442\n",
      "     28        \u001b[36m0.0681\u001b[0m        \u001b[32m0.0700\u001b[0m  0.0415\n",
      "     29        \u001b[36m0.0677\u001b[0m        \u001b[32m0.0698\u001b[0m  0.0381\n",
      "     30        \u001b[36m0.0672\u001b[0m        \u001b[32m0.0696\u001b[0m  0.0378\n",
      "     31        \u001b[36m0.0668\u001b[0m        \u001b[32m0.0694\u001b[0m  0.0423\n",
      "     32        \u001b[36m0.0663\u001b[0m        \u001b[32m0.0692\u001b[0m  0.0444\n",
      "     33        \u001b[36m0.0658\u001b[0m        0.0694  0.0364\n",
      "     34        \u001b[36m0.0653\u001b[0m        \u001b[32m0.0692\u001b[0m  0.0353\n",
      "     35        \u001b[36m0.0648\u001b[0m        \u001b[32m0.0690\u001b[0m  0.0385\n",
      "     36        \u001b[36m0.0644\u001b[0m        \u001b[32m0.0689\u001b[0m  0.0282\n",
      "     37        \u001b[36m0.0640\u001b[0m        \u001b[32m0.0688\u001b[0m  0.0326\n",
      "     38        \u001b[36m0.0637\u001b[0m        \u001b[32m0.0685\u001b[0m  0.0316\n",
      "     39        \u001b[36m0.0633\u001b[0m        \u001b[32m0.0682\u001b[0m  0.0366\n",
      "     40        \u001b[36m0.0631\u001b[0m        \u001b[32m0.0680\u001b[0m  0.0329\n",
      "     41        \u001b[36m0.0628\u001b[0m        \u001b[32m0.0677\u001b[0m  0.0297\n",
      "     42        \u001b[36m0.0625\u001b[0m        \u001b[32m0.0675\u001b[0m  0.0327\n",
      "     43        \u001b[36m0.0623\u001b[0m        \u001b[32m0.0672\u001b[0m  0.0452\n",
      "     44        \u001b[36m0.0621\u001b[0m        \u001b[32m0.0670\u001b[0m  0.0435\n",
      "     45        \u001b[36m0.0618\u001b[0m        \u001b[32m0.0667\u001b[0m  0.0314\n",
      "     46        \u001b[36m0.0616\u001b[0m        \u001b[32m0.0664\u001b[0m  0.0332\n",
      "     47        \u001b[36m0.0614\u001b[0m        \u001b[32m0.0662\u001b[0m  0.0325\n",
      "     48        \u001b[36m0.0613\u001b[0m        \u001b[32m0.0660\u001b[0m  0.0326\n",
      "     49        \u001b[36m0.0611\u001b[0m        \u001b[32m0.0658\u001b[0m  0.0334\n",
      "     50        \u001b[36m0.0609\u001b[0m        \u001b[32m0.0656\u001b[0m  0.0344\n",
      "     51        \u001b[36m0.0607\u001b[0m        \u001b[32m0.0654\u001b[0m  0.0406\n",
      "     52        \u001b[36m0.0606\u001b[0m        \u001b[32m0.0652\u001b[0m  0.0332\n",
      "     53        \u001b[36m0.0604\u001b[0m        \u001b[32m0.0651\u001b[0m  0.0349\n",
      "     54        \u001b[36m0.0602\u001b[0m        \u001b[32m0.0650\u001b[0m  0.0445\n",
      "     55        \u001b[36m0.0601\u001b[0m        \u001b[32m0.0649\u001b[0m  0.0405\n",
      "     56        \u001b[36m0.0599\u001b[0m        \u001b[32m0.0647\u001b[0m  0.0395\n",
      "     57        \u001b[36m0.0597\u001b[0m        \u001b[32m0.0645\u001b[0m  0.0420\n",
      "     58        \u001b[36m0.0596\u001b[0m        \u001b[32m0.0644\u001b[0m  0.0391\n",
      "     59        \u001b[36m0.0595\u001b[0m        \u001b[32m0.0642\u001b[0m  0.0415\n",
      "     60        \u001b[36m0.0593\u001b[0m        \u001b[32m0.0640\u001b[0m  0.0376\n",
      "     61        \u001b[36m0.0592\u001b[0m        \u001b[32m0.0638\u001b[0m  0.0353\n",
      "     62        \u001b[36m0.0591\u001b[0m        \u001b[32m0.0637\u001b[0m  0.0418\n",
      "     63        \u001b[36m0.0590\u001b[0m        \u001b[32m0.0635\u001b[0m  0.0411\n",
      "     64        \u001b[36m0.0588\u001b[0m        \u001b[32m0.0633\u001b[0m  0.0434\n",
      "     65        \u001b[36m0.0587\u001b[0m        \u001b[32m0.0631\u001b[0m  0.0368\n",
      "     66        \u001b[36m0.0586\u001b[0m        \u001b[32m0.0630\u001b[0m  0.0452\n",
      "     67        \u001b[36m0.0585\u001b[0m        \u001b[32m0.0628\u001b[0m  0.0295\n",
      "     68        \u001b[36m0.0584\u001b[0m        \u001b[32m0.0627\u001b[0m  0.0350\n",
      "     69        \u001b[36m0.0583\u001b[0m        \u001b[32m0.0625\u001b[0m  0.0367\n",
      "     70        \u001b[36m0.0582\u001b[0m        \u001b[32m0.0624\u001b[0m  0.0377\n",
      "     71        \u001b[36m0.0582\u001b[0m        \u001b[32m0.0624\u001b[0m  0.0356\n",
      "     72        \u001b[36m0.0581\u001b[0m        \u001b[32m0.0622\u001b[0m  0.0357\n",
      "     73        \u001b[36m0.0580\u001b[0m        \u001b[32m0.0621\u001b[0m  0.0305\n",
      "     74        \u001b[36m0.0579\u001b[0m        \u001b[32m0.0620\u001b[0m  0.0313\n",
      "     75        \u001b[36m0.0578\u001b[0m        \u001b[32m0.0619\u001b[0m  0.0357\n",
      "     76        \u001b[36m0.0578\u001b[0m        \u001b[32m0.0618\u001b[0m  0.0577\n",
      "     77        \u001b[36m0.0577\u001b[0m        \u001b[32m0.0617\u001b[0m  0.0380\n",
      "     78        \u001b[36m0.0576\u001b[0m        \u001b[32m0.0616\u001b[0m  0.0351\n",
      "     79        \u001b[36m0.0576\u001b[0m        \u001b[32m0.0615\u001b[0m  0.0326\n",
      "     80        \u001b[36m0.0575\u001b[0m        \u001b[32m0.0614\u001b[0m  0.0378\n",
      "     81        \u001b[36m0.0575\u001b[0m        \u001b[32m0.0614\u001b[0m  0.0351\n",
      "     82        \u001b[36m0.0574\u001b[0m        \u001b[32m0.0613\u001b[0m  0.0395\n",
      "     83        \u001b[36m0.0573\u001b[0m        \u001b[32m0.0612\u001b[0m  0.0346\n",
      "     84        \u001b[36m0.0573\u001b[0m        \u001b[32m0.0611\u001b[0m  0.0340\n",
      "     85        \u001b[36m0.0572\u001b[0m        \u001b[32m0.0611\u001b[0m  0.0346\n",
      "     86        \u001b[36m0.0572\u001b[0m        \u001b[32m0.0610\u001b[0m  0.0337\n",
      "     87        \u001b[36m0.0571\u001b[0m        \u001b[32m0.0609\u001b[0m  0.0382\n",
      "     88        \u001b[36m0.0571\u001b[0m        \u001b[32m0.0609\u001b[0m  0.0399\n",
      "     89        \u001b[36m0.0571\u001b[0m        \u001b[32m0.0608\u001b[0m  0.0342\n",
      "     90        \u001b[36m0.0570\u001b[0m        \u001b[32m0.0608\u001b[0m  0.0346\n",
      "     91        \u001b[36m0.0570\u001b[0m        \u001b[32m0.0607\u001b[0m  0.0356\n",
      "     92        \u001b[36m0.0569\u001b[0m        \u001b[32m0.0606\u001b[0m  0.0349\n",
      "     93        \u001b[36m0.0569\u001b[0m        \u001b[32m0.0606\u001b[0m  0.0342\n",
      "     94        \u001b[36m0.0568\u001b[0m        \u001b[32m0.0606\u001b[0m  0.0289\n",
      "     95        \u001b[36m0.0568\u001b[0m        0.0606  0.0339\n",
      "     96        \u001b[36m0.0567\u001b[0m        \u001b[32m0.0605\u001b[0m  0.0329\n",
      "     97        \u001b[36m0.0567\u001b[0m        \u001b[32m0.0605\u001b[0m  0.0341\n",
      "     98        \u001b[36m0.0566\u001b[0m        \u001b[32m0.0604\u001b[0m  0.0303\n",
      "     99        \u001b[36m0.0566\u001b[0m        \u001b[32m0.0603\u001b[0m  0.0319\n",
      "    100        \u001b[36m0.0565\u001b[0m        \u001b[32m0.0603\u001b[0m  0.0332\n"
     ]
    },
    {
     "data": {
      "text/plain": [
       "<class 'skorch.regressor.NeuralNetRegressor'>[initialized](\n",
       "  module_=Example(\n",
       "    (FINAL): Sequential(\n",
       "      (0): Linear(in_features=64, out_features=64, bias=True)\n",
       "      (1): Linear(in_features=64, out_features=64, bias=True)\n",
       "      (2): Linear(in_features=64, out_features=10, bias=True)\n",
       "      (3): ReLU()\n",
       "    )\n",
       "  ),\n",
       ")"
      ]
     },
     "execution_count": 13,
     "metadata": {},
     "output_type": "execute_result"
    }
   ],
   "source": [
    "simple_nn.max_epochs=100\n",
    "simple_nn.fit(true_feature, true_target)"
   ]
  },
  {
   "cell_type": "code",
   "execution_count": null,
   "metadata": {},
   "outputs": [],
   "source": []
  }
 ],
 "metadata": {
  "kernelspec": {
   "display_name": "Python 3",
   "language": "python",
   "name": "python3"
  },
  "language_info": {
   "codemirror_mode": {
    "name": "ipython",
    "version": 3
   },
   "file_extension": ".py",
   "mimetype": "text/x-python",
   "name": "python",
   "nbconvert_exporter": "python",
   "pygments_lexer": "ipython3",
   "version": "3.7.7"
  }
 },
 "nbformat": 4,
 "nbformat_minor": 4
}
